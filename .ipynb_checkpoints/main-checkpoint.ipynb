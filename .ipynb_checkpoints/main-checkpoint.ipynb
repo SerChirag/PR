{
 "cells": [
  {
   "cell_type": "code",
   "execution_count": 29,
   "metadata": {},
   "outputs": [],
   "source": [
    "from helper import *\n",
    "from math import log,pi\n",
    "\n",
    "inpu_data = read_input('LS_Group05/Class1.txt')\n",
    "train_data,test_data = part_data(inpu_data)\n",
    "mean,variance = get_stats(train_data)\n"
   ]
  },
  {
   "cell_type": "code",
   "execution_count": null,
   "metadata": {},
   "outputs": [],
   "source": []
  },
  {
   "cell_type": "code",
   "execution_count": 30,
   "metadata": {},
   "outputs": [],
   "source": [
    "cov = cov_matrix(train_data,mean)\n",
    "cov_inv = inverse_matrix(cov)"
   ]
  },
  {
   "cell_type": "code",
   "execution_count": 33,
   "metadata": {},
   "outputs": [
    {
     "name": "stdout",
     "output_type": "stream",
     "text": [
      "7.90681221448\n"
     ]
    }
   ],
   "source": [
    "a = [get_difference_vector(inpu_data[0],mean)]\n",
    "b = transpose(a)\n",
    "result = matrix_multiply(a,cov_inv)\n",
    "result = matrix_multiply(result,b)\n",
    "result = result[0][0]\n",
    "t1 = -1*result/2\n",
    "t2 = -log(2*pi)\n",
    "t3 = get_determinant(cov)\n",
    "print t3"
   ]
  },
  {
   "cell_type": "code",
   "execution_count": null,
   "metadata": {},
   "outputs": [],
   "source": []
  },
  {
   "cell_type": "code",
   "execution_count": null,
   "metadata": {},
   "outputs": [],
   "source": []
  }
 ],
 "metadata": {
  "kernelspec": {
   "display_name": "Python 2",
   "language": "python",
   "name": "python2"
  },
  "language_info": {
   "codemirror_mode": {
    "name": "ipython",
    "version": 2
   },
   "file_extension": ".py",
   "mimetype": "text/x-python",
   "name": "python",
   "nbconvert_exporter": "python",
   "pygments_lexer": "ipython2",
   "version": "2.7.15rc1"
  }
 },
 "nbformat": 4,
 "nbformat_minor": 2
}
