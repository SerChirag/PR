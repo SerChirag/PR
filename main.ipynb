{
 "cells": [
  {
   "cell_type": "code",
   "execution_count": 1,
   "metadata": {},
   "outputs": [
    {
     "name": "stdout",
     "output_type": "stream",
     "text": [
      "[15.797125333333323, 0.1631672906666667] [9.838541204718268, 2.4920329292590946]\n",
      "[6.019918666666664, -12.002414400000005] [2.980400110158257, 4.763699611099128]\n",
      "[-1.0785477479999992, 1.7076141706666654] [1.6476677394594446, 9.277285062797581]\n"
     ]
    }
   ],
   "source": [
    "from helper import *\n",
    "from math import log,pi\n",
    "\n",
    "inpu_data1 = read_input('LS_Group05/Class1.txt')\n",
    "inpu_data2 = read_input('LS_Group05/Class2.txt')\n",
    "inpu_data3 = read_input('LS_Group05/Class3.txt')\n",
    "\n",
    "train_data1,test_data1 = part_data(inpu_data1)\n",
    "train_data2,test_data2 = part_data(inpu_data2)\n",
    "train_data3,test_data3 = part_data(inpu_data3)\n",
    "\n",
    "mean1,variance1 = get_stats(train_data1)\n",
    "mean2,variance2 = get_stats(train_data2)\n",
    "mean3,variance3 = get_stats(train_data3)\n",
    "\n",
    "print mean1, variance1\n",
    "print mean2, variance2\n",
    "print mean3, variance3"
   ]
  },
  {
   "cell_type": "code",
   "execution_count": 2,
   "metadata": {},
   "outputs": [],
   "source": [
    "# Test test samples against model of the same class\n",
    "def task3(inpu_data):\n",
    "    train_data,test_data = part_data(inpu_data)\n",
    "    mean,variance = get_stats(train_data)\n",
    "    print mean, variance\n",
    "    ans=[]\n",
    "    cov = cov_matrix(train_data,mean)\n",
    "    cov_inv = inverse_matrix(cov)    \n",
    "    for i in range(0,len(test_data)):\n",
    "        a = get_difference_vector(test_data[i],mean)\n",
    "        b = transpose(a)\n",
    "        result = matrix_multiply(a,cov_inv)\n",
    "        result = matrix_multiply(result,b)\n",
    "        result = result[0][0]\n",
    "        t1 = -1.0*result/2.0\n",
    "#         t2 = -log(2*pi)\n",
    "        t3 = log(get_determinant(cov))/2.0\n",
    "        t4 = log(1/3.0)\n",
    "        ans.append(t1+t2+t3+t4)\n",
    "#         print t1+t2+t3+t4\n",
    "    return ans"
   ]
  },
  {
   "cell_type": "code",
   "execution_count": 3,
   "metadata": {},
   "outputs": [],
   "source": [
    "def t1(a,cov_inv):\n",
    "    b = transpose(a)\n",
    "    result = matrix_multiply(a,cov_inv)\n",
    "    result = matrix_multiply(result,b)\n",
    "    result = result[0][0]\n",
    "    t1 = -1.0*result/2.0\n",
    "    return t1\n",
    "\n",
    "def g_c1(data):\n",
    "    ans=[]\n",
    "    cov = cov_matrix(train_data1,mean1)\n",
    "    cov_inv = inverse_matrix(cov)\n",
    "    #   t2 = -log(2*pi)\n",
    "    t3 = log(get_determinant(cov))/2.0\n",
    "    t4 = log(1/3.0)\n",
    "    \n",
    "    for i in range(0,len(data)):    \n",
    "        a = get_difference_vector(data[i],mean1)\n",
    "        ans.append(t1(a,cov_inv)+t3+t4)\n",
    "    return ans\n",
    "\n",
    "def g_c2(data):\n",
    "    ans=[]\n",
    "    cov = cov_matrix(train_data2,mean2)\n",
    "    cov_inv = inverse_matrix(cov)\n",
    "    #   t2 = -log(2*pi)\n",
    "    t3 = log(get_determinant(cov))/2.0\n",
    "    t4 = log(1/3.0)\n",
    "    \n",
    "    for i in range(0,len(data)):\n",
    "        a = get_difference_vector(data[i],mean2)\n",
    "        ans.append(t1(a,cov_inv)+t3+t4)\n",
    "    return ans\n",
    "\n",
    "def g_c3(data):\n",
    "    ans=[]\n",
    "    cov = cov_matrix(train_data3,mean3)\n",
    "    cov_inv = inverse_matrix(cov)\n",
    "    #   t2 = -log(2*pi)\n",
    "    t3 = log(get_determinant(cov))/2.0\n",
    "    t4 = log(1/3.0)\n",
    "    \n",
    "    for i in range(0,len(data)):\n",
    "        a = get_difference_vector(data[i],mean3)\n",
    "        ans.append(t1(a,cov_inv)+t3+t4)\n",
    "    return ans"
   ]
  },
  {
   "cell_type": "code",
   "execution_count": 4,
   "metadata": {},
   "outputs": [
    {
     "name": "stdout",
     "output_type": "stream",
     "text": [
      "[1, 1, 1, 1, 1, 1, 1, 1, 1, 1, 1, 1, 1, 1, 1, 1, 1, 1, 1, 1, 1, 1, 1, 1, 1, 1, 1, 1, 1, 1, 1, 1, 1, 1, 1, 1, 1, 1, 1, 1, 1, 1, 1, 1, 1, 1, 1, 1, 1, 1, 1, 1, 1, 1, 1, 1, 1, 1, 1, 1, 1, 1, 1, 1, 1, 1, 1, 1, 1, 1, 1, 1, 1, 1, 1, 1, 1, 1, 1, 1, 1, 1, 1, 1, 1, 1, 1, 1, 1, 1, 1, 1, 1, 1, 1, 1, 1, 1, 1, 1, 1, 1, 1, 1, 1, 1, 1, 1, 1, 1, 1, 1, 1, 1, 1, 1, 1, 1, 1, 1, 1, 1, 1, 1, 1]\n"
     ]
    }
   ],
   "source": [
    "# Change test_data_name to test_data1, test_data2 or test_data3 to apply test samples of C1, C2 or C3 on\n",
    "# models of all 3 classes.\n",
    "\n",
    "test_data_name = test_data1\n",
    "res1=g_c1(test_data_name)\n",
    "res2=g_c2(test_data_name)\n",
    "res3=g_c3(test_data_name)\n",
    "\n",
    "def db():\n",
    "    ans=[]\n",
    "    for i in range(0,len(res1)):\n",
    "#         print res1[i],res2[i],res3[i]\n",
    "        val=1\n",
    "        temp=res1[i]\n",
    "        if(res2[i]>temp):\n",
    "            val=2\n",
    "            temp=res2[i]\n",
    "        if(res3[i]>temp):\n",
    "            val=3\n",
    "        ans.append(val)\n",
    "    return ans\n",
    "\n",
    "print db()"
   ]
  },
  {
   "cell_type": "code",
   "execution_count": null,
   "metadata": {},
   "outputs": [],
   "source": []
  },
  {
   "cell_type": "code",
   "execution_count": null,
   "metadata": {},
   "outputs": [],
   "source": []
  }
 ],
 "metadata": {
  "kernelspec": {
   "display_name": "Python 2",
   "language": "python",
   "name": "python2"
  },
  "language_info": {
   "codemirror_mode": {
    "name": "ipython",
    "version": 2
   },
   "file_extension": ".py",
   "mimetype": "text/x-python",
   "name": "python",
   "nbconvert_exporter": "python",
   "pygments_lexer": "ipython2",
   "version": "2.7.15"
  }
 },
 "nbformat": 4,
 "nbformat_minor": 2
}
