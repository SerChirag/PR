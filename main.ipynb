{
 "cells": [
  {
   "cell_type": "code",
   "execution_count": 1,
   "metadata": {},
   "outputs": [
    {
     "name": "stdout",
     "output_type": "stream",
     "text": [
      "[16.06045413333333, 0.07146118399999998] [10.388553595549809, 2.5890094055205286]\n",
      "[6.043678666666667, -12.006858133333337] [3.022888937784913, 4.806144912620397]\n",
      "[-1.052886725333334, 1.621370941333333] [1.6114405216910157, 9.472959127899713]\n"
     ]
    }
   ],
   "source": [
    "from helper import *\n",
    "from math import log,pi\n",
    "\n",
    "inpu_data1 = read_input('LS_Group05/Class1.txt')\n",
    "inpu_data2 = read_input('LS_Group05/Class2.txt')\n",
    "inpu_data3 = read_input('LS_Group05/Class3.txt')\n",
    "\n",
    "train_data1,test_data1 = part_data(inpu_data1)\n",
    "train_data2,test_data2 = part_data(inpu_data2)\n",
    "train_data3,test_data3 = part_data(inpu_data3)\n",
    "\n",
    "mean1,variance1 = get_stats(train_data1)\n",
    "mean2,variance2 = get_stats(train_data2)\n",
    "mean3,variance3 = get_stats(train_data3)\n",
    "\n",
    "print mean1, variance1\n",
    "print mean2, variance2\n",
    "print mean3, variance3"
   ]
  },
  {
   "cell_type": "code",
   "execution_count": 2,
   "metadata": {},
   "outputs": [
    {
     "name": "stdout",
     "output_type": "stream",
     "text": [
      "[[5.007627685008579, 0], [0, 5.007627685008579]]\n"
     ]
    }
   ],
   "source": [
    "# For part a\n",
    "def cov_task1():\n",
    "    cov= matrix_add([variance1],[variance2])\n",
    "    cov= matrix_add(cov,[variance3])\n",
    "#     print cov\n",
    "    cov=cov_diagonal(cov)\n",
    "#     print cov\n",
    "    cov=cov_div(cov,3.0)\n",
    "#     print cov\n",
    "    X=cov\n",
    "    cov=[[X[0][0] if(i==j) else 0 for j in range(0,len(X[0]))] for i in range(0,len(X[0]))]\n",
    "#     print cov\n",
    "    return cov\n",
    "\n",
    "print cov_task1()"
   ]
  },
  {
   "cell_type": "code",
   "execution_count": 3,
   "metadata": {},
   "outputs": [
    {
     "name": "stdout",
     "output_type": "stream",
     "text": [
      "[[5.0076276850085, 0.0], [0.0, 5.622704482013582]]\n"
     ]
    }
   ],
   "source": [
    "# for part b\n",
    "def cov_task2():\n",
    "    cov1 = cov_matrix(train_data1,mean1)\n",
    "    cov2 = cov_matrix(train_data2,mean2)\n",
    "    cov3 = cov_matrix(train_data3,mean3)\n",
    "\n",
    "#     print cov1\n",
    "#     print cov2\n",
    "#     print cov3\n",
    "    cov= matrix_add(cov1,cov2)\n",
    "    cov= matrix_add(cov,cov3)\n",
    "#     print cov\n",
    "    cov=cov_diagonal(cov)\n",
    "#     print cov\n",
    "    cov=cov_div(cov,3.0)\n",
    "#     print cov\n",
    "#     cov_inv = inverse_matrix(cov)\n",
    "#     print cov_inv\n",
    "    return cov\n",
    "\n",
    "print cov_task2()"
   ]
  },
  {
   "cell_type": "code",
   "execution_count": 4,
   "metadata": {},
   "outputs": [],
   "source": [
    "# Test test samples of a class against model of the same class\n",
    "def task3(inpu_data):\n",
    "    train_data,test_data = part_data(inpu_data)\n",
    "    mean,variance = get_stats(train_data)\n",
    "    print mean, variance\n",
    "    ans=[]\n",
    "    cov = cov_matrix(train_data,mean)\n",
    "    cov_inv = inverse_matrix(cov)    \n",
    "    for i in range(0,len(test_data)):\n",
    "        a = get_difference_vector(test_data[i],mean)\n",
    "        b = transpose(a)\n",
    "        result = matrix_multiply(a,cov_inv)\n",
    "        result = matrix_multiply(result,b)\n",
    "        result = result[0][0]\n",
    "        t1 = -1.0*result/2.0\n",
    "#         t2 = -log(2*pi)\n",
    "        t3 = log(get_determinant(cov))/2.0\n",
    "        t4 = log(1/3.0)\n",
    "        ans.append(t1+t2+t3+t4)\n",
    "#         print t1+t2+t3+t4\n",
    "    return ans"
   ]
  },
  {
   "cell_type": "code",
   "execution_count": 5,
   "metadata": {},
   "outputs": [],
   "source": [
    "def t1(a,cov_inv):\n",
    "    b = transpose(a)\n",
    "    result = matrix_multiply(a,cov_inv)\n",
    "    result = matrix_multiply(result,b)\n",
    "    result = result[0][0]\n",
    "    t1 = -1.0*result/2.0\n",
    "    return t1\n",
    "\n",
    "def g_c1(data):\n",
    "    ans=[]\n",
    "    cov = cov_matrix(train_data1,mean1)\n",
    "    cov_inv = inverse_matrix(cov)\n",
    "    #   t2 = -log(2*pi)\n",
    "    t3 = log(get_determinant(cov))/2.0\n",
    "    t4 = log(1/3.0)\n",
    "    \n",
    "    for i in range(0,len(data)):    \n",
    "        a = get_difference_vector(data[i],mean1)\n",
    "        ans.append(t1(a,cov_inv)+t3+t4)\n",
    "    return ans\n",
    "\n",
    "def g_c2(data):\n",
    "    ans=[]\n",
    "    cov = cov_matrix(train_data2,mean2)\n",
    "    cov_inv = inverse_matrix(cov)\n",
    "    #   t2 = -log(2*pi)\n",
    "    t3 = log(get_determinant(cov))/2.0\n",
    "    t4 = log(1/3.0)\n",
    "    \n",
    "    for i in range(0,len(data)):\n",
    "        a = get_difference_vector(data[i],mean2)\n",
    "        ans.append(t1(a,cov_inv)+t3+t4)\n",
    "    return ans\n",
    "\n",
    "def g_c3(data):\n",
    "    ans=[]\n",
    "    cov = cov_matrix(train_data3,mean3)\n",
    "    cov_inv = inverse_matrix(cov)\n",
    "    #   t2 = -log(2*pi)\n",
    "    t3 = log(get_determinant(cov))/2.0\n",
    "    t4 = log(1/3.0)\n",
    "    \n",
    "    for i in range(0,len(data)):\n",
    "        a = get_difference_vector(data[i],mean3)\n",
    "        ans.append(t1(a,cov_inv)+t3+t4)\n",
    "    return ans"
   ]
  },
  {
   "cell_type": "code",
   "execution_count": 6,
   "metadata": {},
   "outputs": [
    {
     "name": "stdout",
     "output_type": "stream",
     "text": [
      "[1, 1, 1, 1, 1, 1, 1, 1, 1, 1, 1, 1, 1, 1, 1, 1, 1, 1, 1, 1, 1, 1, 1, 1, 1, 1, 1, 1, 1, 1, 1, 1, 1, 1, 1, 1, 1, 1, 1, 1, 1, 1, 1, 1, 1, 1, 1, 1, 1, 1, 1, 1, 1, 1, 1, 1, 1, 1, 1, 1, 1, 1, 1, 1, 1, 1, 1, 1, 1, 1, 1, 1, 1, 1, 1, 1, 1, 1, 1, 1, 1, 1, 1, 1, 1, 1, 1, 1, 1, 1, 1, 1, 1, 1, 1, 1, 1, 1, 1, 1, 1, 1, 1, 1, 1, 1, 1, 1, 1, 1, 1, 1, 1, 1, 1, 1, 1, 1, 1, 1, 1, 1, 1, 1, 1, 2, 2, 2, 2, 2, 2, 2, 2, 2, 2, 2, 2, 2, 2, 2, 2, 2, 2, 2, 2, 2, 2, 2, 2, 2, 2, 2, 2, 2, 2, 2, 2, 2, 2, 2, 2, 2, 2, 2, 2, 2, 2, 2, 2, 2, 2, 2, 2, 2, 2, 2, 2, 2, 2, 2, 2, 2, 2, 2, 2, 2, 2, 2, 2, 2, 2, 2, 2, 2, 2, 2, 2, 2, 2, 2, 2, 2, 2, 2, 2, 2, 2, 2, 2, 2, 2, 2, 2, 2, 2, 2, 2, 2, 2, 2, 2, 2, 2, 2, 2, 2, 2, 2, 2, 2, 2, 2, 2, 2, 2, 2, 2, 2, 2, 2, 2, 2, 2, 2, 2, 2, 2, 2, 2, 2, 3, 3, 3, 3, 3, 3, 3, 3, 3, 3, 3, 3, 3, 3, 3, 3, 3, 3, 3, 3, 3, 3, 3, 3, 3, 3, 3, 3, 3, 3, 3, 3, 3, 3, 3, 3, 3, 3, 3, 3, 3, 3, 3, 3, 3, 3, 3, 3, 3, 3, 3, 3, 3, 3, 3, 3, 3, 3, 3, 3, 3, 3, 3, 3, 3, 3, 3, 3, 3, 3, 3, 3, 3, 3, 3, 3, 3, 3, 3, 3, 3, 3, 3, 3, 3, 3, 3, 3, 3, 3, 3, 3, 3, 3, 3, 3, 3, 3, 3, 3, 3, 3, 3, 3, 3, 3, 3, 3, 3, 3, 3, 3, 3, 3, 3, 3, 3, 3, 3, 3, 3, 3, 3, 3, 3]\n"
     ]
    }
   ],
   "source": [
    "# Change test_data_name to test_data1, test_data2 or test_data3 to apply test samples of C1, C2 or C3 on\n",
    "# models of all 3 classes.\n",
    "\n",
    "test_data=test_data1+test_data2+test_data3\n",
    "\n",
    "test_data_name = test_data\n",
    "res1=g_c1(test_data_name)\n",
    "res2=g_c2(test_data_name)\n",
    "res3=g_c3(test_data_name)\n",
    "\n",
    "def db():\n",
    "    ans=[]\n",
    "    for i in range(0,len(res1)):\n",
    "#         print res1[i],res2[i],res3[i]\n",
    "        val=1\n",
    "        temp=res1[i]\n",
    "        if(res2[i]>temp):\n",
    "            val=2\n",
    "            temp=res2[i]\n",
    "        if(res3[i]>temp):\n",
    "            val=3\n",
    "        ans.append(val)\n",
    "    return ans\n",
    "\n",
    "print db()"
   ]
  },
  {
   "cell_type": "code",
   "execution_count": null,
   "metadata": {},
   "outputs": [],
   "source": []
  },
  {
   "cell_type": "code",
   "execution_count": null,
   "metadata": {},
   "outputs": [],
   "source": []
  }
 ],
 "metadata": {
  "kernelspec": {
   "display_name": "Python 2",
   "language": "python",
   "name": "python2"
  },
  "language_info": {
   "codemirror_mode": {
    "name": "ipython",
    "version": 2
   },
   "file_extension": ".py",
   "mimetype": "text/x-python",
   "name": "python",
   "nbconvert_exporter": "python",
   "pygments_lexer": "ipython2",
   "version": "2.7.15"
  }
 },
 "nbformat": 4,
 "nbformat_minor": 2
}
